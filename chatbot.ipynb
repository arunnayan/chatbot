{
 "cells": [
  {
   "cell_type": "code",
   "execution_count": 1,
   "metadata": {},
   "outputs": [],
   "source": [
    "# https://www.cs.cornell.edu/~cristian/Cornell_Movie-Dialogs_Corpus.html"
   ]
  },
  {
   "cell_type": "code",
   "execution_count": 33,
   "metadata": {},
   "outputs": [],
   "source": [
    "# importing the libraries\n",
    "import pandas as pd\n",
    "import tensorflow as tf\n",
    "import re\n",
    "import time # calculating training time"
   ]
  },
  {
   "cell_type": "code",
   "execution_count": 34,
   "metadata": {},
   "outputs": [],
   "source": [
    "lines = open(\"movie_lines.txt\", encoding=\"utf-8\", errors=\"ignore\").read().split('\\n')\n",
    "conversations = open(\"movie_conversations.txt\", encoding=\"utf-8\", errors=\"ignore\").read().split('\\n')"
   ]
  },
  {
   "cell_type": "code",
   "execution_count": 35,
   "metadata": {},
   "outputs": [],
   "source": [
    "# a dictionary that will map each line with its id\n",
    "id2line = {}"
   ]
  },
  {
   "cell_type": "code",
   "execution_count": 43,
   "metadata": {},
   "outputs": [],
   "source": [
    "for line in lines:\n",
    "    _line = line.split(' +++$+++ ')\n",
    "    if len(_line) == 5:\n",
    "        id2line[_line[0]] = _line[4]"
   ]
  },
  {
   "cell_type": "code",
   "execution_count": 57,
   "metadata": {},
   "outputs": [],
   "source": [
    "# creating a list of all the conversatation\n",
    "conversations_ids = []\n",
    "\n",
    "#note last row is empty [:-1], we will not include this\n",
    "for conversation in conversations[:-1]:\n",
    "                                                # last column [-1]  : [1,-1] - remove first([) and last char(])\n",
    "    _conversation = conversation.split(' +++$+++ ')[-1][1:-1].replace(\"'\",\"\").replace(\" \",\"\")\n",
    "    conversations_ids.append(_conversation.split(\",\"))\n",
    "    \n",
    "    "
   ]
  },
  {
   "cell_type": "code",
   "execution_count": 64,
   "metadata": {},
   "outputs": [],
   "source": [
    "# Now, create two array one for storing all the question and for storing answer\n",
    "questions = []\n",
    "answers = []\n",
    "for conversatation in conversations_ids:\n",
    "    # conversatation will conatin a list of question and answer\n",
    "    for i in range(len(conversatation) - 1):\n",
    "        questions.append(id2line[conversatation[i]])\n",
    "        answers.append(id2line[conversatation[i+1]])"
   ]
  },
  {
   "cell_type": "code",
   "execution_count": 65,
   "metadata": {},
   "outputs": [],
   "source": [
    "#Let's clean the data by regular expression\n",
    "\n",
    "def clean_text(text):\n",
    "    text = text.lower() # all in lower case\n",
    "    text = re.sub(r\"I'm\",\"i am\", text)\n",
    "    text = re.sub(r\"he's\",\"he is\", text)\n",
    "    text = re.sub(r\"she's\",\"she is\", text)\n",
    "    text = re.sub(r\"i'd\",\"i would\", text)\n",
    "    text = re.sub(r\"that's\",\"that is\", text)\n",
    "    text = re.sub(r\"what's\",\"what is\", text)\n",
    "    text = re.sub(r\"\\'ll\",\" will\", text)\n",
    "    text = re.sub(r\"\\'re\",\" are\", text)\n",
    "    text = re.sub(r\"\\'d\",\" would\", text)\n",
    "    text = re.sub(r\"can't\",\"can not\", text)\n",
    "    text = re.sub(r\"won't\",\"would not\", text)\n",
    "    # re.sub(r\"[]\",\"\", text) to remove special character, pass all the character in the list []\n",
    "    text = re.sub(r\"[~`[]{}@#$%^&*()_-+=?/.,><:;|\\\"]\",\"\", text)\n",
    "    return text\n",
    "    "
   ]
  },
  {
   "cell_type": "code",
   "execution_count": 66,
   "metadata": {},
   "outputs": [],
   "source": [
    "# cleaning the question and answers\n",
    "clean_questions = []\n",
    "clean_answers = []\n",
    "\n",
    "for question in questions:\n",
    "    clean_questions.append(clean_text(question))\n",
    "    \n",
    "for answer in answers:\n",
    "    clean_answers.append(clean_text(answer))\n"
   ]
  },
  {
   "cell_type": "code",
   "execution_count": 72,
   "metadata": {},
   "outputs": [],
   "source": [
    "# will create a dictionary that will map a word with its frequency\n",
    "word2count = {} # it's a dictionary\n",
    "for question in clean_questions:\n",
    "        for word in question.split():\n",
    "            if word not in word2count:\n",
    "                word2count[word] = 1\n",
    "            else:\n",
    "                word2count[word] += 1\n",
    "                \n",
    "for answer in clean_answers:\n",
    "        for word in question.split():\n",
    "            if word not in word2count:\n",
    "                word2count[word] = 1\n",
    "            else:\n",
    "                word2count[word] += 1                \n"
   ]
  },
  {
   "cell_type": "code",
   "execution_count": 82,
   "metadata": {},
   "outputs": [],
   "source": [
    "# creating 2 dictionaries , that map each words with unique number based on occurance\n",
    "\n",
    "threshold = 20 # we want atleast a word to be occur more that 20 time and will assign a uniqe value\n",
    "questionswords2int = {}\n",
    "word_number = 0\n",
    "\n",
    "for word, count in word2count.items():\n",
    "    if count >= threshold :\n",
    "        questionswords2int[word] = word_number  # assigning a unique number to the word\n",
    "        word_number += 1\n",
    "        \n",
    "answerwords2int = {}\n",
    "word_number = 0\n",
    "\n",
    "for word, count in word2count.items():\n",
    "    if count >= threshold :\n",
    "        answerwords2int[word] = word_number  # assigning a unique number to the word\n",
    "        word_number += 1\n"
   ]
  },
  {
   "cell_type": "code",
   "execution_count": 93,
   "metadata": {},
   "outputs": [],
   "source": [
    "\n",
    "\n",
    "\n",
    "\n",
    "\n",
    "\n",
    "\n",
    "# Now adding the token seq2seq\n",
    "# add them to two dictinary\n",
    "\n",
    "# SOS -> Start of the sentance\n",
    "# EOS -> End of Sentance\n",
    "# OUT\n",
    "# PAD\n",
    "tokens = ['<PAD>', '<EOS>', '<OUT>', '<SOS>'] # order is important\n",
    "\n",
    "for token in tokens:\n",
    "    questionswords2int[token] = len(questionswords2int) + 1\n",
    "for token in tokens:\n",
    "    answerwords2int[token] = len(answerwords2int) + 1    \n"
   ]
  },
  {
   "cell_type": "code",
   "execution_count": 88,
   "metadata": {},
   "outputs": [],
   "source": [
    "#creating the inverse of dictionary\n",
    "answerint2words = {w_i : w for w, w_i in answerwords2int.items() }"
   ]
  },
  {
   "cell_type": "code",
   "execution_count": 94,
   "metadata": {},
   "outputs": [],
   "source": [
    "# Adding EOS at the end of each answers\n",
    "\n",
    "for i in range(len(clean_answers)-1):\n",
    "    clean_answers[i] += '<EOS>'\n",
    "    "
   ]
  },
  {
   "cell_type": "code",
   "execution_count": 101,
   "metadata": {},
   "outputs": [],
   "source": [
    "# transalating each question and answer into integers\n",
    "# replacing all the words which are filtered out with <OUT>\n",
    "\n",
    "question_into_int = []\n",
    "for question in clean_questions:\n",
    "    ints = []\n",
    "    for word in question.split():\n",
    "        if word not in questionswords2int:\n",
    "            ints.append(questionswords2int['<OUT>'])\n",
    "        else:\n",
    "            ints.append(questionswords2int[word])\n",
    "    \n",
    "    question_into_int.append(ints)\n",
    "\n",
    "answers_into_int = []\n",
    "for answer in clean_answers:\n",
    "    ints = []\n",
    "    for word in question.split():\n",
    "        if word not in answerwords2int:\n",
    "            ints.append(answerwords2int['<OUT>'])\n",
    "        else:\n",
    "            ints.append(answerwords2int[word])\n",
    "    \n",
    "    answers_into_int.append(ints)"
   ]
  },
  {
   "cell_type": "code",
   "execution_count": 105,
   "metadata": {},
   "outputs": [],
   "source": [
    "# Sorting questions and answer based on the length\n",
    "# to speed up the training\n",
    "sorted_clean_questions = []\n",
    "sorted_clean_answers = []\n",
    "# we dont want q/a to be too long approx 25 chacrter long will accept\n",
    "for length in range(1, 25+1):\n",
    "    # we want index and question from the list\n",
    "    for i in enumerate(question_into_int):  # {index, question } -> {0,1}\n",
    "        #check if the length of question is one -> i[1] will be question and i[0] will be the index\n",
    "        if len(i[1]) == length:\n",
    "            sorted_clean_questions.append(question_into_int[i[0]])\n",
    "            sorted_clean_answers.append(answers_into_int[i[0]])\n",
    "        \n",
    "        \n",
    "    \n",
    "\n",
    "\n",
    "\n",
    "\n",
    "\n"
   ]
  },
  {
   "cell_type": "code",
   "execution_count": null,
   "metadata": {},
   "outputs": [],
   "source": []
  },
  {
   "cell_type": "code",
   "execution_count": null,
   "metadata": {},
   "outputs": [],
   "source": []
  }
 ],
 "metadata": {
  "kernelspec": {
   "display_name": "Python 3",
   "language": "python",
   "name": "python3"
  },
  "language_info": {
   "codemirror_mode": {
    "name": "ipython",
    "version": 3
   },
   "file_extension": ".py",
   "mimetype": "text/x-python",
   "name": "python",
   "nbconvert_exporter": "python",
   "pygments_lexer": "ipython3",
   "version": "3.6.4"
  }
 },
 "nbformat": 4,
 "nbformat_minor": 2
}
